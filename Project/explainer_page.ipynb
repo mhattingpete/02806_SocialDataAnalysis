{
 "cells": [
  {
   "cell_type": "markdown",
   "metadata": {},
   "source": [
    "# Explainer Page"
   ]
  },
  {
   "cell_type": "markdown",
   "metadata": {},
   "source": [
    "### Motivation:\n",
    "* What is your dataset?\n",
    "  * Socio-economic data for Copenhagen: [data.kk.dk](https://data.kk.dk/dataset/samlede-socio-data-kbh)\n",
    "  * The dataset contains measurements for different areas in Copenhagen from 2008 until 2014. Some areas are missing a lot of data.\n",
    "  * The dataset contains information about Educational level, Income level and how old people are in the area.\n",
    "* Why did you choose this/these particular dataset(s)?\n",
    "  * Because we are interested in knowing how education and age influences the income level and where people live.\n",
    "  * By using this dataset we can explore different kinds of information about people. We have different age groups and educational levels. So we can find the areas with the most rich people living and the poorer neighborhoods. \n",
    "* What was your goal for the end user’s experience?\n",
    "  * The purpose of our visualization is to give the user an overview of where the poor and rich neighborhoods are and what educational level and how old people are in that area. Such that people moving to Copenhagen can find a neighborhood that suits them and where they fit in."
   ]
  },
  {
   "cell_type": "markdown",
   "metadata": {},
   "source": [
    "### Basic stats:\n",
    "* Write about your choices in data cleaning and preprocessing\n",
    "  * We chose to remove the rows containing NaN's\n",
    "  * Only use columns regarding educational level, income and age. Our processed dataset can be found [here](processed_data.csv).\n",
    "* Write a short section that discusses the dataset stats, containing key points/plots from your exploratory data analysis.\n",
    "  * Total size of our data is 596.9 KB \n",
    "  * The number of rows are 2675 (including headers)\n",
    "  * The date range is 2008-2014\n",
    "  * The educational levels, income levels and age groups are in percent\n",
    "  * We have created an extra column containing the mean of the income level in a given area. Computed by $\\left(\\frac{1 \\times low + 2 \\times medium + 3 \\times high}{100}\\right)$ for each area, where low stands for the percent of people with low income in the area, medium for the percent of people with medium income and the same holds for high.\n",
    "  * We have created a Random Forest regression model to predict the average income level for 2014 since this was not included in the dataset.\n",
    "  * The predictions was based on the Age groups and Educational level."
   ]
  },
  {
   "cell_type": "markdown",
   "metadata": {},
   "source": [
    "### Genre: \n",
    "* Which genre of data story did you use? \n",
    "  * Annotated chart and animation \n",
    "* Which tools did you use from each of the 3 categories of Visual Narrative (Figure 7 in Segal and Heer). Why?\n",
    "  * Visual structuring: Checklist progress tracker\n",
    "  * Highlighting: Zooming \n",
    "  * Transition Guidance: Animated transitions\n",
    "  * We used these because they are easy to visualize.\n",
    "* Which tools did you use from each of the 3 categories of Narrative Structure (Figure 7 in Segal and Heer). Why?\n",
    "  * Ordering: Random access\n",
    "  * Interactivity: Filtering/selection/search\n",
    "  * Messaging: Captions/headline\n",
    "  * We used these tools to enable users to further explore the data in a better and faster way."
   ]
  },
  {
   "cell_type": "markdown",
   "metadata": {},
   "source": [
    "### Visualizations:\n",
    "* Explain the visualizations you’ve chosen.\n",
    "  * We have chosen to use a map to show the areas, a histogram to display the age groups and a donut chart to display the educational levels.\n",
    "* Why are they right for the story you want to tell?\n",
    "  * Because interactivity provides effective and significant information of data to exploring for users and it is simple to visualize.\n",
    "  * Also the map gives an easy way to interpert the location of the areas. The histogram gives a great overview of the people living in the area. And finally the donut chart is a fun and smart way to show how the educations are distributed among the people in the area.\n"
   ]
  },
  {
   "cell_type": "markdown",
   "metadata": {},
   "source": [
    "### Discussion:\n",
    "* What went well?\n",
    "  * All the shown visualizations when pretty well and also the model used for predicting the income level for 2014.\n",
    "* What is still missing? What could be improved?, Why?\n",
    "  * One thing that we wanted to do was to maybe have a plot of the predicted values of the income.\n",
    "  * Another thing we could have improved was to automatically update the histogram and donut chart when we selected another year.\n",
    "  * These things were not done since we didn't have the time to do it."
   ]
  },
  {
   "cell_type": "markdown",
   "metadata": {},
   "source": [
    "### Contributions:\n",
    "* Who did what?\n",
    "  * Oldouz:\n",
    "    * Wrote the \"Story behind the data\"\n",
    "    * Wrote \"Motivation\", \"Genre\" and \"Visualizations\".\n",
    "  * Martin:\n",
    "    * Created all the visualizations and the webpage.\n",
    "    * Wrote the \"Explanation of the visualization and how to use it\" on the webpage.\n",
    "    * Wrote the code included below and the script \"train_model.py\"\n",
    "    * Wrote \"Basic stats\" and \"Discussion\"."
   ]
  },
  {
   "cell_type": "markdown",
   "metadata": {},
   "source": [
    "## Code\n",
    "\n",
    "In this part of the page we will go through the function calls that prepare the data for our visualization. The code can be found [here](train_model.py)."
   ]
  },
  {
   "cell_type": "markdown",
   "metadata": {},
   "source": [
    "### Imports"
   ]
  },
  {
   "cell_type": "code",
   "execution_count": 1,
   "metadata": {},
   "outputs": [],
   "source": [
    "from train_model import getColumns,prepareData,trainModel,predict"
   ]
  },
  {
   "cell_type": "markdown",
   "metadata": {},
   "source": [
    "### Get and prepare the data"
   ]
  },
  {
   "cell_type": "code",
   "execution_count": 2,
   "metadata": {},
   "outputs": [
    {
     "name": "stderr",
     "output_type": "stream",
     "text": [
      "/home/martin/Dropbox/DTU/Kandidat/2. Semester/02806 - Social data analysis and visualization/Project/train_model.py:25: SettingWithCopyWarning: \n",
      "A value is trying to be set on a copy of a slice from a DataFrame\n",
      "\n",
      "See the caveats in the documentation: http://pandas.pydata.org/pandas-docs/stable/indexing.html#indexing-view-versus-copy\n",
      "  dfTrain.dropna(inplace=True)\n",
      "/usr/local/lib/python3.6/dist-packages/sklearn/model_selection/_split.py:2026: FutureWarning: From version 0.21, test_size will always complement train_size unless both are specified.\n",
      "  FutureWarning)\n"
     ]
    }
   ],
   "source": [
    "save_as = \"processed_data.csv\"\n",
    "df = getColumns(file_name=\"samlede_socio_data_kbh.csv\")\n",
    "df[\"avg_income_level\"] = (1*df[\"pct_lav_indkomst\"]+2*df[\"pct_middel_indkomst\"]+3*df[\"pct_hoj_indkomst\"])/100\n",
    "df = df[(~((df[\"alder_pct_0_5\"] == 0) & (df[\"alder_pct_6_17\"] == 0) & (df[\"alder_pct_18_29\"] == 0) & (df[\"alder_pct_30_39\"] == 0) & (df[\"alder_pct_40_49\"] == 0) & (df[\"alder_pct_40_49\"] == 0) & (df[\"alder_pct_50_64\"] == 0) & (df[\"alder_pct_over_65\"] == 0)))]\n",
    "X_train,y_train,X_eval,y_eval,X_test,y_test = prepareData(df)"
   ]
  },
  {
   "cell_type": "markdown",
   "metadata": {},
   "source": [
    "### Train the model\n",
    "\n",
    "We train a Random Forest regression model to predict the average income level."
   ]
  },
  {
   "cell_type": "code",
   "execution_count": 3,
   "metadata": {},
   "outputs": [
    {
     "name": "stdout",
     "output_type": "stream",
     "text": [
      "Train Score 0.9672282385695855\n",
      "Eval Score 0.724750977087156\n"
     ]
    }
   ],
   "source": [
    "model = trainModel(X_train,y_train,X_eval,y_eval)"
   ]
  },
  {
   "cell_type": "markdown",
   "metadata": {},
   "source": [
    "### Predict and save the results"
   ]
  },
  {
   "cell_type": "code",
   "execution_count": 4,
   "metadata": {},
   "outputs": [],
   "source": [
    "y_test_pred = predict(model,X_test)\n",
    "res = df\n",
    "res.loc[\"2014-01-01\",\"avg_income_level\"] = y_test_pred\n",
    "res.to_csv(save_as)"
   ]
  }
 ],
 "metadata": {
  "kernelspec": {
   "display_name": "Python 3",
   "language": "python",
   "name": "python3"
  },
  "language_info": {
   "codemirror_mode": {
    "name": "ipython",
    "version": 3
   },
   "file_extension": ".py",
   "mimetype": "text/x-python",
   "name": "python",
   "nbconvert_exporter": "python",
   "pygments_lexer": "ipython3",
   "version": "3.6.5"
  }
 },
 "nbformat": 4,
 "nbformat_minor": 2
}
